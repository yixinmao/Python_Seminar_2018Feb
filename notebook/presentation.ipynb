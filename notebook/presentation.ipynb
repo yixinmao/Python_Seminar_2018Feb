{
 "cells": [
  {
   "cell_type": "code",
   "execution_count": 2,
   "metadata": {
    "slideshow": {
     "slide_type": "skip"
    }
   },
   "outputs": [
    {
     "data": {
      "text/plain": [
       "<IPython.core.display.HTML object>"
      ]
     },
     "metadata": {},
     "output_type": "display_data"
    }
   ],
   "source": [
    "%run talktools.py\n",
    "%matplotlib inline"
   ]
  },
  {
   "cell_type": "markdown",
   "metadata": {
    "slideshow": {
     "slide_type": "slide"
    }
   },
   "source": [
    "# The code is too slow. How to speed up?\n",
    "\n",
    "#    \n",
    "\n",
    "> Yixin Mao\n",
    "\n",
    "> Feb 6, 2018\n",
    "\n",
    "> Python Seminar\n",
    "\n",
    "<i>Much of this material was prepared together with Elizabeth Clark</i>"
   ]
  },
  {
   "cell_type": "markdown",
   "metadata": {
    "slideshow": {
     "slide_type": "slide"
    }
   },
   "source": [
    "# Steps\n",
    "\n",
    "- Identify bottlenecks - which part of the code is slow?\n",
    "    - <span style=\"color:green\">**Time each code section**</span>\n",
    "    - CPU v.s. I/O limit\n",
    "\n",
    "- Strategies\n",
    "    - Avoid loops\n",
    "    - Parellel computing using Python"
   ]
  },
  {
   "cell_type": "markdown",
   "metadata": {
    "slideshow": {
     "slide_type": "subslide"
    }
   },
   "source": [
    "# Time each code section"
   ]
  },
  {
   "cell_type": "code",
   "execution_count": 10,
   "metadata": {
    "collapsed": true,
    "slideshow": {
     "slide_type": "fragment"
    }
   },
   "outputs": [],
   "source": [
    "''' This script generates a fake precipitation field. '''\n",
    "\n",
    "import numpy as np\n",
    "import xarray as xr\n",
    "import pandas as pd\n",
    "\n",
    "def generate_constant_precip_field(lats, lons, constant_precip):\n",
    "    precip = np.ones([len(lats), len(lons)]) * constant_precip\n",
    "    da_precip = xr.DataArray(precip,\n",
    "                             coords=[lats, lons],\n",
    "                             dims=['lat', 'lon'])\n",
    "    return da_precip\n",
    "\n",
    "def add_random_noise(da_precip_constant, std): \n",
    "    da_precip = da_precip_constant.copy()\n",
    "    for lat in da_precip_constant['lat']:\n",
    "        for lon in da_precip_constant['lon']:\n",
    "            noise = np.random.normal(loc=0, scale=std)\n",
    "            da_precip.loc[lat, lon] += noise\n",
    "    return da_precip"
   ]
  },
  {
   "cell_type": "code",
   "execution_count": 11,
   "metadata": {
    "slideshow": {
     "slide_type": "subslide"
    }
   },
   "outputs": [
    {
     "data": {
      "text/plain": [
       "<matplotlib.collections.QuadMesh at 0x1cbd401d240>"
      ]
     },
     "execution_count": 11,
     "metadata": {},
     "output_type": "execute_result"
    },
    {
     "data": {
      "image/png": "[encoded data removed]",
      "text/plain": [
       "<matplotlib.figure.Figure at 0x1cbced38390>"
      ]
     },
     "metadata": {},
     "output_type": "display_data"
    }
   ],
   "source": [
    "np.random.seed(3333)\n",
    "\n",
    "# --- Step 1. generate constant field --- #\n",
    "lats = np.arange(40, 60, 0.5)\n",
    "lons = np.arange(-125, -95, 0.5)\n",
    "da_precip_constant = generate_constant_precip_field(\n",
    "    lats, lons, constant_precip=10)\n",
    "\n",
    "# --- Step 2. add random noise to the constant precip field --- #\n",
    "da_precip = add_random_noise(da_precip_constant, std=1)\n",
    "\n",
    "da_precip.plot()"
   ]
  },
  {
   "cell_type": "markdown",
   "metadata": {
    "slideshow": {
     "slide_type": "subslide"
    }
   },
   "source": [
    "## Timing method 1: timeit"
   ]
  },
  {
   "cell_type": "code",
   "execution_count": 12,
   "metadata": {
    "slideshow": {
     "slide_type": "fragment"
    }
   },
   "outputs": [
    {
     "name": "stdout",
     "output_type": "stream",
     "text": [
      "Time of step 1: 0.00048014 seconds\n",
      "Time of step 2: 4.7296 seconds\n"
     ]
    }
   ],
   "source": [
    "import timeit\n",
    "np.random.seed(3333)\n",
    "\n",
    "# --- Step 1. generate constant field --- #\n",
    "time1 = timeit.default_timer()\n",
    "lats = np.arange(40, 60, 0.5)\n",
    "lons = np.arange(-125, -95, 0.5)\n",
    "da_precip_constant = generate_constant_precip_field(\n",
    "    lats, lons, constant_precip=10)\n",
    "time2 = timeit.default_timer()\n",
    "print('Time of step 1: {:.5} seconds'.format(time2-time1))\n",
    "\n",
    "# --- Step 2. add random noise to the constant precip field --- #\n",
    "time1 = timeit.default_timer()\n",
    "da_precip = add_random_noise(da_precip_constant, std=1)\n",
    "time2 = timeit.default_timer()\n",
    "print('Time of step 2: {:.5} seconds'.format(time2-time1))"
   ]
  },
  {
   "cell_type": "markdown",
   "metadata": {
    "collapsed": true,
    "slideshow": {
     "slide_type": "subslide"
    }
   },
   "source": [
    "## Timing method 2: line_profiler\n",
    "(https://pypi.python.org/pypi/line_profiler/)\n",
    "- Install line_profiler for Python: <span style=\"color:green\">$ pip install line_profiler</span>\n",
    "- Add @profile in front of each function you want to time:"
   ]
  },
  {
   "cell_type": "code",
   "execution_count": null,
   "metadata": {
    "collapsed": true,
    "slideshow": {
     "slide_type": "fragment"
    }
   },
   "outputs": [],
   "source": [
    "# my_code.py\n",
    "\n",
    "@profile\n",
    "def generate_constant_precip_field(lats, lons, constant_precip):\n",
    "    precip = np.ones([len(lats), len(lons)]) * constant_precip\n",
    "    da_precip = xr.DataArray(precip,\n",
    "                             coords=[lats, lons],\n",
    "                             dims=['lat', 'lon'])\n",
    "    return da_precip\n",
    "\n",
    "@profile\n",
    "def add_random_noise(da_precip_constant, std):\n",
    "    da_precip = da_precip_constant.copy()\n",
    "    for lat in da_precip_constant['lat']:\n",
    "        for lon in da_precip_constant['lon']:\n",
    "            noise = np.random.normal(loc=0, scale=std)\n",
    "            da_precip.loc[lat, lon] += noise\n",
    "    return da_precip"
   ]
  },
  {
   "cell_type": "markdown",
   "metadata": {
    "collapsed": true,
    "slideshow": {
     "slide_type": "subslide"
    }
   },
   "source": [
    "Run script on command line: <span style=\"color:green\">$ kernprof -l -v my_code.py</span>\n",
    "\n",
    "Output on screen:"
   ]
  },
  {
   "cell_type": "markdown",
   "metadata": {
    "collapsed": true,
    "slideshow": {
     "slide_type": "fragment"
    }
   },
   "source": [
    "<img src=\"../figures/line_profiler_output.png\">"
   ]
  },
  {
   "cell_type": "markdown",
   "metadata": {
    "collapsed": true,
    "slideshow": {
     "slide_type": "slide"
    }
   },
   "source": [
    "# Steps\n",
    "\n",
    "- Identify bottlenecks - which part of the code is slow?\n",
    "    - Time each code section\n",
    "    - <span style=\"color:green\">**CPU v.s. I/O limit**</span>\n",
    "\n",
    "- Strategies\n",
    "    - Avoid loops\n",
    "    - Parellel computing using Python"
   ]
  },
  {
   "cell_type": "markdown",
   "metadata": {
    "slideshow": {
     "slide_type": "subslide"
    }
   },
   "source": [
    "- If I/O is slowing you down, speeding up computation won’t help!\n",
    "\n",
    "- *Example*: monitor CPU, I/O and memory usage on Hyak\n",
    "\n",
    "    https://depts.washington.edu/hyak/ganglia/\n",
    "    \n",
    "- Options to limit I/O:\n",
    "    - Keep more data in memory\n",
    "    - Use binary file formats like netCDF or raw binary"
   ]
  },
  {
   "cell_type": "markdown",
   "metadata": {
    "slideshow": {
     "slide_type": "slide"
    }
   },
   "source": [
    "# Steps\n",
    "\n",
    "- Identify bottlenecks - which part of the code is slow?\n",
    "    - Time each code section\n",
    "    - CPU v.s. I/O limit\n",
    "\n",
    "- Strategies\n",
    "    - <span style=\"color:green\">**Avoid loops**</span>\n",
    "    - Parellel computing using Python"
   ]
  },
  {
   "cell_type": "markdown",
   "metadata": {
    "collapsed": true,
    "slideshow": {
     "slide_type": "subslide"
    }
   },
   "source": [
    "# Avoid loops - strategies"
   ]
  },
  {
   "cell_type": "code",
   "execution_count": 13,
   "metadata": {
    "slideshow": {
     "slide_type": "fragment"
    }
   },
   "outputs": [
    {
     "name": "stdout",
     "output_type": "stream",
     "text": [
      "Time: 4.6258 seconds\n"
     ]
    }
   ],
   "source": [
    "def add_random_noise(da_precip_constant, std):\n",
    "    da_precip = da_precip_constant.copy()\n",
    "    for lat in da_precip_constant['lat']:\n",
    "        for lon in da_precip_constant['lon']:\n",
    "            noise = np.random.normal(loc=0, scale=std)\n",
    "            da_precip.loc[lat, lon] += noise\n",
    "    return da_precip\n",
    "\n",
    "time1 = timeit.default_timer()\n",
    "da_precip = add_random_noise(da_precip_constant, std=1)\n",
    "time2 = timeit.default_timer()\n",
    "print('Time: {:.5} seconds'.format(time2-time1))"
   ]
  },
  {
   "cell_type": "markdown",
   "metadata": {
    "slideshow": {
     "slide_type": "subslide"
    }
   },
   "source": [
    "# Avoid loops - use built-in functionailty"
   ]
  },
  {
   "cell_type": "code",
   "execution_count": 14,
   "metadata": {
    "slideshow": {
     "slide_type": "fragment"
    }
   },
   "outputs": [
    {
     "name": "stdout",
     "output_type": "stream",
     "text": [
      "Time: 0.0020235 seconds\n"
     ]
    }
   ],
   "source": [
    "def add_random_noise_v2(da_precip_constant, std):\n",
    "    da_precip = da_precip_constant.copy()\n",
    "    noise = np.random.normal(\n",
    "        loc=0, scale=std,\n",
    "        size=(len(da_precip_constant['lat']),\n",
    "              len(da_precip_constant['lon'])))\n",
    "    da_precip[:] += noise\n",
    "    return da_precip\n",
    "\n",
    "time1 = timeit.default_timer()\n",
    "da_precip = add_random_noise_v2(da_precip_constant, std=1)\n",
    "time2 = timeit.default_timer()\n",
    "print('Time: {:.5} seconds'.format(time2-time1))"
   ]
  },
  {
   "cell_type": "markdown",
   "metadata": {
    "slideshow": {
     "slide_type": "subslide"
    }
   },
   "source": [
    "# Avoid loops - use map() or apply()"
   ]
  },
  {
   "cell_type": "code",
   "execution_count": 15,
   "metadata": {
    "slideshow": {
     "slide_type": "fragment"
    }
   },
   "outputs": [
    {
     "name": "stdout",
     "output_type": "stream",
     "text": [
      "Time: 0.0093645 seconds\n"
     ]
    }
   ],
   "source": [
    "def add_random_noise_v3(da_precip_constant, std):\n",
    "    da_precip = da_precip_constant.copy()\n",
    "    # Determine total number of loops\n",
    "    nlat = len(da_precip_constant['lat'])\n",
    "    nlon = len(da_precip_constant['lon'])\n",
    "    nloop = nlat * nlon\n",
    "    # Generate random noise using map()\n",
    "    noise = np.array(list(map(np.random.normal,\n",
    "                              np.zeros(nloop),\n",
    "                              np.ones(nloop)*std))) # dimension: [nloop]\n",
    "    # Reshape noise\n",
    "    noise = noise.reshape([nlat, nlon])\n",
    "    # Add noise to precipitation \n",
    "    da_precip[:] += noise\n",
    "    return da_precip\n",
    "\n",
    "time1 = timeit.default_timer()\n",
    "da_precip = add_random_noise_v3(da_precip_constant, std=1)\n",
    "time2 = timeit.default_timer()\n",
    "print('Time: {:.5} seconds'.format(time2-time1))"
   ]
  },
  {
   "cell_type": "markdown",
   "metadata": {
    "slideshow": {
     "slide_type": "subslide"
    }
   },
   "source": [
    "# Avoid loops\n",
    "\n",
    "- Use built-in functionality\n",
    "- map() or apply()\n",
    "- List comprehension: `[f(x) for x in x_array]`\n",
    "- itertools\n",
    "- numpy.fromfunction()"
   ]
  },
  {
   "cell_type": "markdown",
   "metadata": {
    "slideshow": {
     "slide_type": "slide"
    }
   },
   "source": [
    "# Steps\n",
    "\n",
    "- Identify bottlenecks - which part of the code is slow?\n",
    "    - Time each code section\n",
    "    - CPU v.s. I/O limit\n",
    "\n",
    "- Strategies\n",
    "    - Avoid loops\n",
    "    - <span style=\"color:green\">**Parellel computing using Python**</span>"
   ]
  },
  {
   "cell_type": "markdown",
   "metadata": {
    "slideshow": {
     "slide_type": "subslide"
    }
   },
   "source": [
    "# Python multiprocessing package - \"multi-task\" on one machine"
   ]
  },
  {
   "cell_type": "code",
   "execution_count": 16,
   "metadata": {
    "slideshow": {
     "slide_type": "fragment"
    }
   },
   "outputs": [
    {
     "name": "stdout",
     "output_type": "stream",
     "text": [
      "0\n",
      "1\n",
      "2\n",
      "3\n",
      "4\n"
     ]
    }
   ],
   "source": [
    "import time\n",
    "\n",
    "def do_some_task(input_var):\n",
    "    # Some slow task\n",
    "    time.sleep(2)\n",
    "    print(input_var)\n",
    "\n",
    "for i in range(0, 5):\n",
    "    do_some_task(i)"
   ]
  },
  {
   "cell_type": "markdown",
   "metadata": {
    "slideshow": {
     "slide_type": "subslide"
    }
   },
   "source": [
    "# With multiprocessing"
   ]
  },
  {
   "cell_type": "code",
   "execution_count": null,
   "metadata": {
    "slideshow": {
     "slide_type": "fragment"
    }
   },
   "outputs": [],
   "source": [
    "import multiprocessing as mp\n",
    "\n",
    "# Set up multiprocessing\n",
    "pool = mp.Pool(processes=5)\n",
    "# Loop over tasks\n",
    "for i in range(5):\n",
    "    pool.apply_async(do_some_task, (i,))\n",
    "# Finish multiprocessing\n",
    "pool.close()\n",
    "pool.join()"
   ]
  },
  {
   "cell_type": "markdown",
   "metadata": {
    "slideshow": {
     "slide_type": "fragment"
    }
   },
   "source": [
    "- <span style=\"color:green\">will print *ALL* numbers in ~ 2 seconds</span>\n",
    "\n",
    "\n",
    "- multiprocessing works the best in script mode\n",
    "- there may be some issues in Jupyter Notebook (at least on Windows)"
   ]
  },
  {
   "attachments": {},
   "cell_type": "markdown",
   "metadata": {
    "slideshow": {
     "slide_type": "subslide"
    }
   },
   "source": [
    "# Using multiple nodes: mpi4py\n",
    "\n",
    "- More than 1 node: distributed memory\n",
    "\n",
    "- Nodes do not have access to same data, must tell program what info and when to share \n",
    "    \n",
    "- MPI = Message Passing Interface"
   ]
  },
  {
   "cell_type": "code",
   "execution_count": null,
   "metadata": {
    "slideshow": {
     "slide_type": "subslide"
    }
   },
   "outputs": [],
   "source": [
    "# my_script.py\n",
    "\n",
    "from mpi4py import MPI\n",
    "comm = MPI.COMM_WORLD\n",
    "rank = MPI.COMM_WORLD.Get_rank()\n",
    "\n",
    "a = 6.0\n",
    "b = 3.0\n",
    "if rank == 0:\n",
    "        print(a + b)\n",
    "if rank == 1:\n",
    "        print(a * b)\n",
    "if rank == 2:\n",
    "        print(max(a, b))"
   ]
  },
  {
   "cell_type": "markdown",
   "metadata": {
    "slideshow": {
     "slide_type": "fragment"
    }
   },
   "source": [
    "$ mpiexec  -n 5 python  hello.py"
   ]
  },
  {
   "cell_type": "code",
   "execution_count": null,
   "metadata": {
    "collapsed": true,
    "slideshow": {
     "slide_type": "subslide"
    }
   },
   "outputs": [],
   "source": [
    "# my_script.py\n",
    "\n",
    "import numpy\n",
    "from mpi4py import MPI\n",
    "comm = MPI.COMM_WORLD\n",
    "rank = comm.Get_rank()\n",
    "\n",
    "a = 6.0\n",
    "b = 3.0\n",
    "if rank == 0:\n",
    "        comm.Send(a + b, dest=1)\n",
    "if rank == 1:\n",
    "        print(a * b)\n",
    "        comm.Recv(c)\n",
    "        print(c)\n",
    "if rank == 2:\n",
    "        print(max(a, b))"
   ]
  },
  {
   "cell_type": "markdown",
   "metadata": {
    "slideshow": {
     "slide_type": "slide"
    }
   },
   "source": [
    "# Thank you!\n",
    "\n",
    "yixinmao@uw.edu\n",
    "\n",
    "(The interactive slides are enabled by Python RISE package)"
   ]
  }
 ],
 "metadata": {
  "celltoolbar": "Slideshow",
  "kernelspec": {
   "display_name": "Python 3",
   "language": "python",
   "name": "python3"
  },
  "language_info": {
   "codemirror_mode": {
    "name": "ipython",
    "version": 3
   },
   "file_extension": ".py",
   "mimetype": "text/x-python",
   "name": "python",
   "nbconvert_exporter": "python",
   "pygments_lexer": "ipython3",
   "version": "3.6.3"
  }
 },
 "nbformat": 4,
 "nbformat_minor": 2
}
